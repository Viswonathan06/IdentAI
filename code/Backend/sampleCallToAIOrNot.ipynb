{
 "cells": [
  {
   "cell_type": "code",
   "execution_count": 3,
   "metadata": {},
   "outputs": [
    {
     "name": "stderr",
     "output_type": "stream",
     "text": [
      "2024-03-18 21:03:28,777 - INFO - /Users/viswonathanmanoranjan/Documents/GitHub/delphinium/code/Backendalgo/ai_voice_det/saved/ShallowCNN_lfcc_I\n",
      "2024-03-18 21:03:28,781 - INFO - Batch size: 128, seed: None, epochs: 20\n",
      "2024-03-18 21:03:28,782 - INFO - Evaluating model: ShallowCNN\n",
      "2024-03-18 21:03:28,782 - INFO - Input feature : lfcc\n",
      "2024-03-18 21:03:28,783 - INFO - Model kwargs  : {\n",
      "  \"in_features\": 1,\n",
      "  \"out_dim\": 1,\n",
      "  \"device\": \"cpu\"\n",
      "}\n",
      "2024-03-18 21:03:28,784 - INFO - Loading data...\n",
      "2024-03-18 21:03:28,786 - INFO - Loading data from /Users/viswonathanmanoranjan/Documents/GitHub/delphinium/code/Backend/data...!\n",
      "2024-03-18 21:03:28,787 - INFO - Loading data from /Users/viswonathanmanoranjan/Documents/GitHub/delphinium/code/Backend/data...!\n",
      "2024-03-18 21:03:28,787 - INFO - Testing model on  2 audio files.\n"
     ]
    },
    {
     "name": "stdout",
     "output_type": "stream",
     "text": [
      "['/Users/viswonathanmanoranjan/Documents/GitHub/delphinium/code/Backend', '/Users/viswonathanmanoranjan/.vscode/extensions/ms-toolsai.jupyter-2022.11.1003412109/pythonFiles', '/Users/viswonathanmanoranjan/.vscode/extensions/ms-toolsai.jupyter-2022.11.1003412109/pythonFiles/lib/python', '/Library/Frameworks/Python.framework/Versions/3.10/lib/python310.zip', '/Library/Frameworks/Python.framework/Versions/3.10/lib/python3.10', '/Library/Frameworks/Python.framework/Versions/3.10/lib/python3.10/lib-dynload', '', '/Users/viswonathanmanoranjan/Library/Python/3.10/lib/python/site-packages', '/Library/Frameworks/Python.framework/Versions/3.10/lib/python3.10/site-packages', '/Users/viswonathanmanoranjan/Documents/GitHub/delphinium/code/Backend/algo/ai_voice_det', '/Users/viswonathanmanoranjan/Documents/GitHub/delphinium/code/Backend/algo/ai_voice_det', '/Users/viswonathanmanoranjan/Documents/GitHub/delphinium/code/Backend/algo/ai_voice_det']\n",
      "/Users/viswonathanmanoranjan/Documents/GitHub/delphinium/code/Backend/data\n",
      "Starting : ShallowCNN_lfcc_I\n"
     ]
    },
    {
     "name": "stderr",
     "output_type": "stream",
     "text": [
      "2024-03-18 21:03:30,322 - INFO - Model summary:\n",
      "==========================================================================================\n",
      "Layer (type:depth-idx)                   Output Shape              Param #\n",
      "==========================================================================================\n",
      "ShallowCNN                               [128, 1]                  --\n",
      "├─Conv2d: 1-1                            [128, 32, 39, 971]        544\n",
      "├─MaxPool2d: 1-2                         [128, 32, 19, 485]        --\n",
      "├─Conv2d: 1-3                            [128, 48, 17, 483]        38,448\n",
      "├─MaxPool2d: 1-4                         [128, 48, 8, 241]         --\n",
      "├─Conv2d: 1-5                            [128, 64, 7, 240]         49,216\n",
      "├─MaxPool2d: 1-6                         [128, 64, 3, 120]         --\n",
      "├─Conv2d: 1-7                            [128, 128, 4, 119]        65,664\n",
      "├─MaxPool2d: 1-8                         [128, 128, 2, 59]         --\n",
      "├─Linear: 1-9                            [128, 128]                1,933,440\n",
      "├─Linear: 1-10                           [128, 1]                  129\n",
      "==========================================================================================\n",
      "Total params: 2,087,441\n",
      "Trainable params: 2,087,441\n",
      "Non-trainable params: 0\n",
      "Total mult-adds (G): 57.88\n",
      "==========================================================================================\n",
      "Input size (MB): 19.91\n",
      "Forward/backward pass size (MB): 1817.10\n",
      "Params size (MB): 8.35\n",
      "Estimated Total Size (MB): 1845.36\n",
      "==========================================================================================\n"
     ]
    },
    {
     "ename": "OSError",
     "evalue": "dlopen(/Library/Frameworks/Python.framework/Versions/3.10/lib/python3.10/site-packages/torchaudio/lib/libtorchaudio_sox.so, 0x0006): Library not loaded: @rpath/libsox.dylib\n  Referenced from: <F2719D4C-DBCD-373F-AA7D-02170FD57FFE> /Library/Frameworks/Python.framework/Versions/3.10/lib/python3.10/site-packages/torchaudio/lib/libtorchaudio_sox.so\n  Reason: tried: '/usr/lib/libsox.dylib' (no such file, not in dyld cache)",
     "output_type": "error",
     "traceback": [
      "\u001b[0;31m---------------------------------------------------------------------------\u001b[0m",
      "\u001b[0;31mOSError\u001b[0m                                   Traceback (most recent call last)",
      "Cell \u001b[0;32mIn[3], line 35\u001b[0m\n\u001b[1;32m     33\u001b[0m eval_only\u001b[39m=\u001b[39m\u001b[39mTrue\u001b[39;00m\n\u001b[1;32m     34\u001b[0m \u001b[39mprint\u001b[39m(\u001b[39m\"\u001b[39m\u001b[39mStarting :\u001b[39m\u001b[39m\"\u001b[39m, exp_name)\n\u001b[0;32m---> 35\u001b[0m results \u001b[39m=\u001b[39m ADFD\u001b[39m.\u001b[39;49mexperiment(\n\u001b[1;32m     36\u001b[0m             name\u001b[39m=\u001b[39;49mexp_name,\n\u001b[1;32m     37\u001b[0m             path_to_file\u001b[39m=\u001b[39;49mpath_to_file_directory,\n\u001b[1;32m     38\u001b[0m             model_dir\u001b[39m=\u001b[39;49mhome_path\u001b[39m+\u001b[39;49m\u001b[39m\"\u001b[39;49m\u001b[39malgo/ai_voice_det/saved\u001b[39;49m\u001b[39m\"\u001b[39;49m,\n\u001b[1;32m     39\u001b[0m             epochs\u001b[39m=\u001b[39;49mepochs,\n\u001b[1;32m     40\u001b[0m             batch_size\u001b[39m=\u001b[39;49mbatch_size,\n\u001b[1;32m     41\u001b[0m             feature_classname\u001b[39m=\u001b[39;49mfeature_classname,\n\u001b[1;32m     42\u001b[0m             model_classname\u001b[39m=\u001b[39;49mmodel_classname,\n\u001b[1;32m     43\u001b[0m             in_distribution\u001b[39m=\u001b[39;49min_distribution,\n\u001b[1;32m     44\u001b[0m             device\u001b[39m=\u001b[39;49mdevice,\n\u001b[1;32m     45\u001b[0m             seed\u001b[39m=\u001b[39;49mseed \u001b[39mif\u001b[39;49;00m deterministic \u001b[39melse\u001b[39;49;00m \u001b[39mNone\u001b[39;49;00m,\n\u001b[1;32m     46\u001b[0m             amount_to_use\u001b[39m=\u001b[39;49m\u001b[39m160\u001b[39;49m \u001b[39mif\u001b[39;49;00m debug \u001b[39melse\u001b[39;49;00m \u001b[39mNone\u001b[39;49;00m,\n\u001b[1;32m     47\u001b[0m             restore\u001b[39m=\u001b[39;49mrestore,\n\u001b[1;32m     48\u001b[0m             evaluate_only\u001b[39m=\u001b[39;49meval_only,\n\u001b[1;32m     49\u001b[0m         )\n",
      "File \u001b[0;32m~/Documents/GitHub/delphinium/code/Backend/algo/ai_voice_det/train.py:333\u001b[0m, in \u001b[0;36mexperiment\u001b[0;34m(name, path_to_file, model_dir, epochs, batch_size, feature_classname, model_classname, in_distribution, device, seed, amount_to_use, restore, evaluate_only, **kwargs)\u001b[0m\n\u001b[1;32m    330\u001b[0m LOGGER\u001b[39m.\u001b[39minfo(\u001b[39mf\u001b[39m\u001b[39m\"\u001b[39m\u001b[39mBatch size: \u001b[39m\u001b[39m{\u001b[39;00mbatch_size\u001b[39m}\u001b[39;00m\u001b[39m, seed: \u001b[39m\u001b[39m{\u001b[39;00mseed\u001b[39m}\u001b[39;00m\u001b[39m, epochs: \u001b[39m\u001b[39m{\u001b[39;00mepochs\u001b[39m}\u001b[39;00m\u001b[39m\"\u001b[39m)\n\u001b[1;32m    332\u001b[0m \u001b[39mif\u001b[39;00m evaluate_only:\n\u001b[0;32m--> 333\u001b[0m     results, confidence_scores \u001b[39m=\u001b[39m eval_only(\n\u001b[1;32m    334\u001b[0m         real_dir\u001b[39m=\u001b[39;49mpath_to_file,\n\u001b[1;32m    335\u001b[0m         fake_dir\u001b[39m=\u001b[39;49mfake_dir,\n\u001b[1;32m    336\u001b[0m         amount_to_use\u001b[39m=\u001b[39;49mamount_to_use,\n\u001b[1;32m    337\u001b[0m         epochs\u001b[39m=\u001b[39;49mepochs,\n\u001b[1;32m    338\u001b[0m         device\u001b[39m=\u001b[39;49mdevice,\n\u001b[1;32m    339\u001b[0m         batch_size\u001b[39m=\u001b[39;49mbatch_size,\n\u001b[1;32m    340\u001b[0m         save_dir\u001b[39m=\u001b[39;49msave_dir,\n\u001b[1;32m    341\u001b[0m         feature_classname\u001b[39m=\u001b[39;49mfeature_classname,\n\u001b[1;32m    342\u001b[0m         model_classname\u001b[39m=\u001b[39;49mmodel_classname,\n\u001b[1;32m    343\u001b[0m         in_distribution\u001b[39m=\u001b[39;49min_distribution,\n\u001b[1;32m    344\u001b[0m         checkpoint\u001b[39m=\u001b[39;49mckpt,\n\u001b[1;32m    345\u001b[0m     )\n\u001b[1;32m    346\u001b[0m     results \u001b[39m=\u001b[39m [tensor\u001b[39m.\u001b[39mitem() \u001b[39mfor\u001b[39;00m tensor \u001b[39min\u001b[39;00m results[\u001b[39m0\u001b[39m]]\n\u001b[1;32m    347\u001b[0m     confidence_scores \u001b[39m=\u001b[39m [tensor\u001b[39m.\u001b[39mitem() \u001b[39mfor\u001b[39;00m tensor \u001b[39min\u001b[39;00m confidence_scores[\u001b[39m0\u001b[39m]]\n",
      "File \u001b[0;32m~/Documents/GitHub/delphinium/code/Backend/algo/ai_voice_det/train.py:287\u001b[0m, in \u001b[0;36meval_only\u001b[0;34m(real_dir, fake_dir, amount_to_use, epochs, device, batch_size, save_dir, test_size, feature_classname, model_classname, in_distribution, checkpoint)\u001b[0m\n\u001b[1;32m    283\u001b[0m LOGGER\u001b[39m.\u001b[39minfo(\u001b[39mf\u001b[39m\u001b[39m\"\u001b[39m\u001b[39mModel summary:\u001b[39m\u001b[39m\\n\u001b[39;00m\u001b[39m{\u001b[39;00msummary_str\u001b[39m}\u001b[39;00m\u001b[39m\"\u001b[39m)\n\u001b[1;32m    285\u001b[0m \u001b[39m###########################################################################\u001b[39;00m\n\u001b[0;32m--> 287\u001b[0m original_preds, confidence_scores \u001b[39m=\u001b[39m ModelTrainer(batch_size\u001b[39m=\u001b[39;49mbatch_size, epochs\u001b[39m=\u001b[39;49mepochs, device\u001b[39m=\u001b[39;49mdevice)\u001b[39m.\u001b[39;49meval(\n\u001b[1;32m    288\u001b[0m     model\u001b[39m=\u001b[39;49mmodel,\n\u001b[1;32m    289\u001b[0m     dataset_test\u001b[39m=\u001b[39;49mdataset_test,\n\u001b[1;32m    290\u001b[0m     save_dir\u001b[39m=\u001b[39;49msave_dir,\n\u001b[1;32m    291\u001b[0m     checkpoint\u001b[39m=\u001b[39;49mcheckpoint,\n\u001b[1;32m    292\u001b[0m )\n\u001b[1;32m    293\u001b[0m \u001b[39m# print(confidence_scores)\u001b[39;00m\n\u001b[1;32m    294\u001b[0m \u001b[39mreturn\u001b[39;00m original_preds, confidence_scores\n",
      "File \u001b[0;32m~/Documents/GitHub/delphinium/code/Backend/algo/ai_voice_det/trainer.py:231\u001b[0m, in \u001b[0;36mModelTrainer.eval\u001b[0;34m(self, model, dataset_test, save_dir, checkpoint)\u001b[0m\n\u001b[1;32m    229\u001b[0m final_preds_original \u001b[39m=\u001b[39m []\n\u001b[1;32m    230\u001b[0m confidence_scores \u001b[39m=\u001b[39m []\n\u001b[0;32m--> 231\u001b[0m \u001b[39mfor\u001b[39;00m batch_x, _, _, batch_y \u001b[39min\u001b[39;00m test_loader:\n\u001b[1;32m    232\u001b[0m     \u001b[39m# get actual batch size\u001b[39;00m\n\u001b[1;32m    233\u001b[0m     curr_batch_size \u001b[39m=\u001b[39m batch_x\u001b[39m.\u001b[39msize(\u001b[39m0\u001b[39m)\n\u001b[1;32m    234\u001b[0m     num_total \u001b[39m+\u001b[39m\u001b[39m=\u001b[39m curr_batch_size\n",
      "File \u001b[0;32m/Library/Frameworks/Python.framework/Versions/3.10/lib/python3.10/site-packages/torch/utils/data/dataloader.py:631\u001b[0m, in \u001b[0;36m_BaseDataLoaderIter.__next__\u001b[0;34m(self)\u001b[0m\n\u001b[1;32m    628\u001b[0m \u001b[39mif\u001b[39;00m \u001b[39mself\u001b[39m\u001b[39m.\u001b[39m_sampler_iter \u001b[39mis\u001b[39;00m \u001b[39mNone\u001b[39;00m:\n\u001b[1;32m    629\u001b[0m     \u001b[39m# TODO(https://github.com/pytorch/pytorch/issues/76750)\u001b[39;00m\n\u001b[1;32m    630\u001b[0m     \u001b[39mself\u001b[39m\u001b[39m.\u001b[39m_reset()  \u001b[39m# type: ignore[call-arg]\u001b[39;00m\n\u001b[0;32m--> 631\u001b[0m data \u001b[39m=\u001b[39m \u001b[39mself\u001b[39;49m\u001b[39m.\u001b[39;49m_next_data()\n\u001b[1;32m    632\u001b[0m \u001b[39mself\u001b[39m\u001b[39m.\u001b[39m_num_yielded \u001b[39m+\u001b[39m\u001b[39m=\u001b[39m \u001b[39m1\u001b[39m\n\u001b[1;32m    633\u001b[0m \u001b[39mif\u001b[39;00m \u001b[39mself\u001b[39m\u001b[39m.\u001b[39m_dataset_kind \u001b[39m==\u001b[39m _DatasetKind\u001b[39m.\u001b[39mIterable \u001b[39mand\u001b[39;00m \\\n\u001b[1;32m    634\u001b[0m         \u001b[39mself\u001b[39m\u001b[39m.\u001b[39m_IterableDataset_len_called \u001b[39mis\u001b[39;00m \u001b[39mnot\u001b[39;00m \u001b[39mNone\u001b[39;00m \u001b[39mand\u001b[39;00m \\\n\u001b[1;32m    635\u001b[0m         \u001b[39mself\u001b[39m\u001b[39m.\u001b[39m_num_yielded \u001b[39m>\u001b[39m \u001b[39mself\u001b[39m\u001b[39m.\u001b[39m_IterableDataset_len_called:\n",
      "File \u001b[0;32m/Library/Frameworks/Python.framework/Versions/3.10/lib/python3.10/site-packages/torch/utils/data/dataloader.py:675\u001b[0m, in \u001b[0;36m_SingleProcessDataLoaderIter._next_data\u001b[0;34m(self)\u001b[0m\n\u001b[1;32m    673\u001b[0m \u001b[39mdef\u001b[39;00m \u001b[39m_next_data\u001b[39m(\u001b[39mself\u001b[39m):\n\u001b[1;32m    674\u001b[0m     index \u001b[39m=\u001b[39m \u001b[39mself\u001b[39m\u001b[39m.\u001b[39m_next_index()  \u001b[39m# may raise StopIteration\u001b[39;00m\n\u001b[0;32m--> 675\u001b[0m     data \u001b[39m=\u001b[39m \u001b[39mself\u001b[39;49m\u001b[39m.\u001b[39;49m_dataset_fetcher\u001b[39m.\u001b[39;49mfetch(index)  \u001b[39m# may raise StopIteration\u001b[39;00m\n\u001b[1;32m    676\u001b[0m     \u001b[39mif\u001b[39;00m \u001b[39mself\u001b[39m\u001b[39m.\u001b[39m_pin_memory:\n\u001b[1;32m    677\u001b[0m         data \u001b[39m=\u001b[39m _utils\u001b[39m.\u001b[39mpin_memory\u001b[39m.\u001b[39mpin_memory(data, \u001b[39mself\u001b[39m\u001b[39m.\u001b[39m_pin_memory_device)\n",
      "File \u001b[0;32m/Library/Frameworks/Python.framework/Versions/3.10/lib/python3.10/site-packages/torch/utils/data/_utils/fetch.py:51\u001b[0m, in \u001b[0;36m_MapDatasetFetcher.fetch\u001b[0;34m(self, possibly_batched_index)\u001b[0m\n\u001b[1;32m     49\u001b[0m         data \u001b[39m=\u001b[39m \u001b[39mself\u001b[39m\u001b[39m.\u001b[39mdataset\u001b[39m.\u001b[39m__getitems__(possibly_batched_index)\n\u001b[1;32m     50\u001b[0m     \u001b[39melse\u001b[39;00m:\n\u001b[0;32m---> 51\u001b[0m         data \u001b[39m=\u001b[39m [\u001b[39mself\u001b[39m\u001b[39m.\u001b[39mdataset[idx] \u001b[39mfor\u001b[39;00m idx \u001b[39min\u001b[39;00m possibly_batched_index]\n\u001b[1;32m     52\u001b[0m \u001b[39melse\u001b[39;00m:\n\u001b[1;32m     53\u001b[0m     data \u001b[39m=\u001b[39m \u001b[39mself\u001b[39m\u001b[39m.\u001b[39mdataset[possibly_batched_index]\n",
      "File \u001b[0;32m/Library/Frameworks/Python.framework/Versions/3.10/lib/python3.10/site-packages/torch/utils/data/_utils/fetch.py:51\u001b[0m, in \u001b[0;36m<listcomp>\u001b[0;34m(.0)\u001b[0m\n\u001b[1;32m     49\u001b[0m         data \u001b[39m=\u001b[39m \u001b[39mself\u001b[39m\u001b[39m.\u001b[39mdataset\u001b[39m.\u001b[39m__getitems__(possibly_batched_index)\n\u001b[1;32m     50\u001b[0m     \u001b[39melse\u001b[39;00m:\n\u001b[0;32m---> 51\u001b[0m         data \u001b[39m=\u001b[39m [\u001b[39mself\u001b[39;49m\u001b[39m.\u001b[39;49mdataset[idx] \u001b[39mfor\u001b[39;00m idx \u001b[39min\u001b[39;00m possibly_batched_index]\n\u001b[1;32m     52\u001b[0m \u001b[39melse\u001b[39;00m:\n\u001b[1;32m     53\u001b[0m     data \u001b[39m=\u001b[39m \u001b[39mself\u001b[39m\u001b[39m.\u001b[39mdataset[possibly_batched_index]\n",
      "File \u001b[0;32m/Library/Frameworks/Python.framework/Versions/3.10/lib/python3.10/site-packages/torch/utils/data/dataset.py:335\u001b[0m, in \u001b[0;36mConcatDataset.__getitem__\u001b[0;34m(self, idx)\u001b[0m\n\u001b[1;32m    333\u001b[0m \u001b[39melse\u001b[39;00m:\n\u001b[1;32m    334\u001b[0m     sample_idx \u001b[39m=\u001b[39m idx \u001b[39m-\u001b[39m \u001b[39mself\u001b[39m\u001b[39m.\u001b[39mcumulative_sizes[dataset_idx \u001b[39m-\u001b[39m \u001b[39m1\u001b[39m]\n\u001b[0;32m--> 335\u001b[0m \u001b[39mreturn\u001b[39;00m \u001b[39mself\u001b[39;49m\u001b[39m.\u001b[39;49mdatasets[dataset_idx][sample_idx]\n",
      "File \u001b[0;32m~/Documents/GitHub/delphinium/code/Backend/algo/ai_voice_det/DataLoader.py:187\u001b[0m, in \u001b[0;36mTransformDataset.__getitem__\u001b[0;34m(self, index)\u001b[0m\n\u001b[1;32m    186\u001b[0m \u001b[39mdef\u001b[39;00m \u001b[39m__getitem__\u001b[39m(\u001b[39mself\u001b[39m, index: \u001b[39mint\u001b[39m) \u001b[39m-\u001b[39m\u001b[39m>\u001b[39m Tuple[torch\u001b[39m.\u001b[39mTensor, \u001b[39mint\u001b[39m]:\n\u001b[0;32m--> 187\u001b[0m     waveform, sample_rate, audio_path, label \u001b[39m=\u001b[39m \u001b[39mself\u001b[39;49m\u001b[39m.\u001b[39;49m_dataset[index]\n\u001b[1;32m    189\u001b[0m     \u001b[39mif\u001b[39;00m \u001b[39mself\u001b[39m\u001b[39m.\u001b[39m_transform \u001b[39mis\u001b[39;00m \u001b[39mNone\u001b[39;00m:\n\u001b[1;32m    190\u001b[0m         \u001b[39mif\u001b[39;00m \u001b[39mself\u001b[39m\u001b[39m.\u001b[39m_needs_sample_rate:\n",
      "File \u001b[0;32m~/Documents/GitHub/delphinium/code/Backend/algo/ai_voice_det/DataLoader.py:187\u001b[0m, in \u001b[0;36mTransformDataset.__getitem__\u001b[0;34m(self, index)\u001b[0m\n\u001b[1;32m    186\u001b[0m \u001b[39mdef\u001b[39;00m \u001b[39m__getitem__\u001b[39m(\u001b[39mself\u001b[39m, index: \u001b[39mint\u001b[39m) \u001b[39m-\u001b[39m\u001b[39m>\u001b[39m Tuple[torch\u001b[39m.\u001b[39mTensor, \u001b[39mint\u001b[39m]:\n\u001b[0;32m--> 187\u001b[0m     waveform, sample_rate, audio_path, label \u001b[39m=\u001b[39m \u001b[39mself\u001b[39;49m\u001b[39m.\u001b[39;49m_dataset[index]\n\u001b[1;32m    189\u001b[0m     \u001b[39mif\u001b[39;00m \u001b[39mself\u001b[39m\u001b[39m.\u001b[39m_transform \u001b[39mis\u001b[39;00m \u001b[39mNone\u001b[39;00m:\n\u001b[1;32m    190\u001b[0m         \u001b[39mif\u001b[39;00m \u001b[39mself\u001b[39m\u001b[39m.\u001b[39m_needs_sample_rate:\n",
      "File \u001b[0;32m~/Documents/GitHub/delphinium/code/Backend/algo/ai_voice_det/DataLoader.py:133\u001b[0m, in \u001b[0;36mPadDataset.__getitem__\u001b[0;34m(self, index)\u001b[0m\n\u001b[1;32m    132\u001b[0m \u001b[39mdef\u001b[39;00m \u001b[39m__getitem__\u001b[39m(\u001b[39mself\u001b[39m, index):\n\u001b[0;32m--> 133\u001b[0m     waveform, sample_rate, audio_path \u001b[39m=\u001b[39m \u001b[39mself\u001b[39;49m\u001b[39m.\u001b[39;49mdataset[index]\n\u001b[1;32m    134\u001b[0m     waveform \u001b[39m=\u001b[39m waveform\u001b[39m.\u001b[39msqueeze(\u001b[39m0\u001b[39m)\n\u001b[1;32m    135\u001b[0m     waveform_len \u001b[39m=\u001b[39m waveform\u001b[39m.\u001b[39mshape[\u001b[39m0\u001b[39m]\n",
      "File \u001b[0;32m~/Documents/GitHub/delphinium/code/Backend/algo/ai_voice_det/DataLoader.py:83\u001b[0m, in \u001b[0;36mAudioDataset.__getitem__\u001b[0;34m(self, index)\u001b[0m\n\u001b[1;32m     81\u001b[0m \u001b[39m# resamplling\u001b[39;00m\n\u001b[1;32m     82\u001b[0m \u001b[39mif\u001b[39;00m sample_rate \u001b[39m!=\u001b[39m \u001b[39mself\u001b[39m\u001b[39m.\u001b[39msample_rate:\n\u001b[0;32m---> 83\u001b[0m     waveform, sample_rate \u001b[39m=\u001b[39m torchaudio\u001b[39m.\u001b[39;49msox_effects\u001b[39m.\u001b[39;49mapply_effects_file(\n\u001b[1;32m     84\u001b[0m         path, [[\u001b[39m\"\u001b[39;49m\u001b[39mrate\u001b[39;49m\u001b[39m\"\u001b[39;49m, \u001b[39mf\u001b[39;49m\u001b[39m\"\u001b[39;49m\u001b[39m{\u001b[39;49;00m\u001b[39mself\u001b[39;49m\u001b[39m.\u001b[39;49msample_rate\u001b[39m}\u001b[39;49;00m\u001b[39m\"\u001b[39;49m]], normalize\u001b[39m=\u001b[39;49m\u001b[39mself\u001b[39;49m\u001b[39m.\u001b[39;49mnormalize\n\u001b[1;32m     85\u001b[0m     )\n\u001b[1;32m     87\u001b[0m \u001b[39mif\u001b[39;00m \u001b[39mself\u001b[39m\u001b[39m.\u001b[39mtrim:\n\u001b[1;32m     88\u001b[0m     (\n\u001b[1;32m     89\u001b[0m         waveform_trimmed,\n\u001b[1;32m     90\u001b[0m         sample_rate_trimmed,\n\u001b[1;32m     91\u001b[0m     ) \u001b[39m=\u001b[39m torchaudio\u001b[39m.\u001b[39msox_effects\u001b[39m.\u001b[39mapply_effects_tensor(\n\u001b[1;32m     92\u001b[0m         waveform, sample_rate, SOX_SILENCE\n\u001b[1;32m     93\u001b[0m     )\n",
      "File \u001b[0;32m/Library/Frameworks/Python.framework/Versions/3.10/lib/python3.10/site-packages/torchaudio/sox_effects/sox_effects.py:272\u001b[0m, in \u001b[0;36mapply_effects_file\u001b[0;34m(path, effects, normalize, channels_first, format)\u001b[0m\n\u001b[1;32m    267\u001b[0m         \u001b[39mraise\u001b[39;00m \u001b[39mRuntimeError\u001b[39;00m(\n\u001b[1;32m    268\u001b[0m             \u001b[39m\"\u001b[39m\u001b[39mapply_effects_file function does not support file-like object. \u001b[39m\u001b[39m\"\u001b[39m\n\u001b[1;32m    269\u001b[0m             \u001b[39m\"\u001b[39m\u001b[39mPlease use torchaudio.io.AudioEffector.\u001b[39m\u001b[39m\"\u001b[39m\n\u001b[1;32m    270\u001b[0m         )\n\u001b[1;32m    271\u001b[0m     path \u001b[39m=\u001b[39m os\u001b[39m.\u001b[39mfspath(path)\n\u001b[0;32m--> 272\u001b[0m \u001b[39mreturn\u001b[39;00m sox_ext\u001b[39m.\u001b[39;49mapply_effects_file(path, effects, normalize, channels_first, \u001b[39mformat\u001b[39m)\n",
      "File \u001b[0;32m/Library/Frameworks/Python.framework/Versions/3.10/lib/python3.10/site-packages/torchaudio/_extension/utils.py:121\u001b[0m, in \u001b[0;36m_LazyImporter.__getattr__\u001b[0;34m(self, item)\u001b[0m\n\u001b[1;32m    120\u001b[0m \u001b[39mdef\u001b[39;00m \u001b[39m__getattr__\u001b[39m(\u001b[39mself\u001b[39m, item):\n\u001b[0;32m--> 121\u001b[0m     \u001b[39mself\u001b[39;49m\u001b[39m.\u001b[39;49m_import_once()\n\u001b[1;32m    122\u001b[0m     \u001b[39mreturn\u001b[39;00m \u001b[39mgetattr\u001b[39m(\u001b[39mself\u001b[39m\u001b[39m.\u001b[39mmodule, item)\n",
      "File \u001b[0;32m/Library/Frameworks/Python.framework/Versions/3.10/lib/python3.10/site-packages/torchaudio/_extension/utils.py:135\u001b[0m, in \u001b[0;36m_LazyImporter._import_once\u001b[0;34m(self)\u001b[0m\n\u001b[1;32m    133\u001b[0m \u001b[39mdef\u001b[39;00m \u001b[39m_import_once\u001b[39m(\u001b[39mself\u001b[39m):\n\u001b[1;32m    134\u001b[0m     \u001b[39mif\u001b[39;00m \u001b[39mself\u001b[39m\u001b[39m.\u001b[39mmodule \u001b[39mis\u001b[39;00m \u001b[39mNone\u001b[39;00m:\n\u001b[0;32m--> 135\u001b[0m         \u001b[39mself\u001b[39m\u001b[39m.\u001b[39mmodule \u001b[39m=\u001b[39m \u001b[39mself\u001b[39;49m\u001b[39m.\u001b[39;49mimport_func()\n\u001b[1;32m    136\u001b[0m         \u001b[39m# Note:\u001b[39;00m\n\u001b[1;32m    137\u001b[0m         \u001b[39m# By attaching the module attributes to self,\u001b[39;00m\n\u001b[1;32m    138\u001b[0m         \u001b[39m# module attributes are directly accessible.\u001b[39;00m\n\u001b[1;32m    139\u001b[0m         \u001b[39m# This allows to avoid calling __getattr__ for every attribute access.\u001b[39;00m\n\u001b[1;32m    140\u001b[0m         \u001b[39mself\u001b[39m\u001b[39m.\u001b[39m\u001b[39m__dict__\u001b[39m\u001b[39m.\u001b[39mupdate(\u001b[39mself\u001b[39m\u001b[39m.\u001b[39mmodule\u001b[39m.\u001b[39m\u001b[39m__dict__\u001b[39m)\n",
      "File \u001b[0;32m/Library/Frameworks/Python.framework/Versions/3.10/lib/python3.10/site-packages/torchaudio/_extension/utils.py:85\u001b[0m, in \u001b[0;36m_init_sox\u001b[0;34m()\u001b[0m\n\u001b[1;32m     84\u001b[0m \u001b[39mdef\u001b[39;00m \u001b[39m_init_sox\u001b[39m():\n\u001b[0;32m---> 85\u001b[0m     ext \u001b[39m=\u001b[39m _import_sox_ext()\n\u001b[1;32m     86\u001b[0m     ext\u001b[39m.\u001b[39mset_verbosity(\u001b[39m0\u001b[39m)\n\u001b[1;32m     88\u001b[0m     \u001b[39mimport\u001b[39;00m \u001b[39matexit\u001b[39;00m\n",
      "File \u001b[0;32m/Library/Frameworks/Python.framework/Versions/3.10/lib/python3.10/site-packages/torchaudio/_extension/utils.py:80\u001b[0m, in \u001b[0;36m_import_sox_ext\u001b[0;34m()\u001b[0m\n\u001b[1;32m     72\u001b[0m \u001b[39mif\u001b[39;00m \u001b[39mnot\u001b[39;00m importlib\u001b[39m.\u001b[39mutil\u001b[39m.\u001b[39mfind_spec(ext):\n\u001b[1;32m     73\u001b[0m     \u001b[39mraise\u001b[39;00m \u001b[39mRuntimeError\u001b[39;00m(\n\u001b[1;32m     74\u001b[0m         \u001b[39m# fmt: off\u001b[39;00m\n\u001b[1;32m     75\u001b[0m         \u001b[39m\"\u001b[39m\u001b[39mTorchAudio is not built with sox extension. \u001b[39m\u001b[39m\"\u001b[39m\n\u001b[1;32m     76\u001b[0m         \u001b[39m\"\u001b[39m\u001b[39mPlease build TorchAudio with libsox support. (BUILD_SOX=1)\u001b[39m\u001b[39m\"\u001b[39m\n\u001b[1;32m     77\u001b[0m         \u001b[39m# fmt: on\u001b[39;00m\n\u001b[1;32m     78\u001b[0m     )\n\u001b[0;32m---> 80\u001b[0m _load_lib(\u001b[39m\"\u001b[39;49m\u001b[39mlibtorchaudio_sox\u001b[39;49m\u001b[39m\"\u001b[39;49m)\n\u001b[1;32m     81\u001b[0m \u001b[39mreturn\u001b[39;00m importlib\u001b[39m.\u001b[39mimport_module(ext)\n",
      "File \u001b[0;32m/Library/Frameworks/Python.framework/Versions/3.10/lib/python3.10/site-packages/torchaudio/_extension/utils.py:60\u001b[0m, in \u001b[0;36m_load_lib\u001b[0;34m(lib)\u001b[0m\n\u001b[1;32m     58\u001b[0m \u001b[39mif\u001b[39;00m \u001b[39mnot\u001b[39;00m path\u001b[39m.\u001b[39mexists():\n\u001b[1;32m     59\u001b[0m     \u001b[39mreturn\u001b[39;00m \u001b[39mFalse\u001b[39;00m\n\u001b[0;32m---> 60\u001b[0m torch\u001b[39m.\u001b[39;49mops\u001b[39m.\u001b[39;49mload_library(path)\n\u001b[1;32m     61\u001b[0m \u001b[39mreturn\u001b[39;00m \u001b[39mTrue\u001b[39;00m\n",
      "File \u001b[0;32m/Library/Frameworks/Python.framework/Versions/3.10/lib/python3.10/site-packages/torch/_ops.py:933\u001b[0m, in \u001b[0;36m_Ops.load_library\u001b[0;34m(self, path)\u001b[0m\n\u001b[1;32m    928\u001b[0m path \u001b[39m=\u001b[39m _utils_internal\u001b[39m.\u001b[39mresolve_library_path(path)\n\u001b[1;32m    929\u001b[0m \u001b[39mwith\u001b[39;00m dl_open_guard():\n\u001b[1;32m    930\u001b[0m     \u001b[39m# Import the shared library into the process, thus running its\u001b[39;00m\n\u001b[1;32m    931\u001b[0m     \u001b[39m# static (global) initialization code in order to register custom\u001b[39;00m\n\u001b[1;32m    932\u001b[0m     \u001b[39m# operators with the JIT.\u001b[39;00m\n\u001b[0;32m--> 933\u001b[0m     ctypes\u001b[39m.\u001b[39;49mCDLL(path)\n\u001b[1;32m    934\u001b[0m \u001b[39mself\u001b[39m\u001b[39m.\u001b[39mloaded_libraries\u001b[39m.\u001b[39madd(path)\n",
      "File \u001b[0;32m/Library/Frameworks/Python.framework/Versions/3.10/lib/python3.10/ctypes/__init__.py:374\u001b[0m, in \u001b[0;36mCDLL.__init__\u001b[0;34m(self, name, mode, handle, use_errno, use_last_error, winmode)\u001b[0m\n\u001b[1;32m    371\u001b[0m \u001b[39mself\u001b[39m\u001b[39m.\u001b[39m_FuncPtr \u001b[39m=\u001b[39m _FuncPtr\n\u001b[1;32m    373\u001b[0m \u001b[39mif\u001b[39;00m handle \u001b[39mis\u001b[39;00m \u001b[39mNone\u001b[39;00m:\n\u001b[0;32m--> 374\u001b[0m     \u001b[39mself\u001b[39m\u001b[39m.\u001b[39m_handle \u001b[39m=\u001b[39m _dlopen(\u001b[39mself\u001b[39;49m\u001b[39m.\u001b[39;49m_name, mode)\n\u001b[1;32m    375\u001b[0m \u001b[39melse\u001b[39;00m:\n\u001b[1;32m    376\u001b[0m     \u001b[39mself\u001b[39m\u001b[39m.\u001b[39m_handle \u001b[39m=\u001b[39m handle\n",
      "\u001b[0;31mOSError\u001b[0m: dlopen(/Library/Frameworks/Python.framework/Versions/3.10/lib/python3.10/site-packages/torchaudio/lib/libtorchaudio_sox.so, 0x0006): Library not loaded: @rpath/libsox.dylib\n  Referenced from: <F2719D4C-DBCD-373F-AA7D-02170FD57FFE> /Library/Frameworks/Python.framework/Versions/3.10/lib/python3.10/site-packages/torchaudio/lib/libtorchaudio_sox.so\n  Reason: tried: '/usr/lib/libsox.dylib' (no such file, not in dyld cache)"
     ]
    }
   ],
   "source": [
    "\n",
    "import sys, os\n",
    "from pathlib import Path\n",
    "home_path = os.path.join(os.getcwd())\n",
    "sys.path.append(home_path+\"/algo/ai_voice_det\")\n",
    "print(sys.path)\n",
    "from pathlib import Path\n",
    "from algo.ai_voice_det import train as ADFD\n",
    "\n",
    "path_to_file_directory = (home_path+'/data')\n",
    "\n",
    "print(path_to_file_directory)\n",
    "\n",
    "#constants\n",
    "feature_classname=\"lfcc\"\n",
    "model_classname=\"ShallowCNN\"\n",
    "in_distribution = True\n",
    "exp_setup = \"O\"\n",
    "if in_distribution:\n",
    "    exp_setup = \"I\" \n",
    "exp_name = f\"{model_classname}_{feature_classname}_{exp_setup}\"\n",
    "name=exp_name\n",
    "epochs=20\n",
    "batch_size=128\n",
    "debug = False\n",
    "device=\"cpu\"\n",
    "seed = None\n",
    "\n",
    "amount_to_use = None\n",
    "deterministic = False\n",
    "\n",
    "\n",
    "restore=True\n",
    "eval_only=True\n",
    "print(\"Starting :\", exp_name)\n",
    "results = ADFD.experiment(\n",
    "            name=exp_name,\n",
    "            path_to_file=path_to_file_directory,\n",
    "            model_dir=home_path+\"algo/ai_voice_det/saved\",\n",
    "            epochs=epochs,\n",
    "            batch_size=batch_size,\n",
    "            feature_classname=feature_classname,\n",
    "            model_classname=model_classname,\n",
    "            in_distribution=in_distribution,\n",
    "            device=device,\n",
    "            seed=seed if deterministic else None,\n",
    "            amount_to_use=160 if debug else None,\n",
    "            restore=restore,\n",
    "            evaluate_only=eval_only,\n",
    "        )"
   ]
  },
  {
   "cell_type": "code",
   "execution_count": 1,
   "metadata": {},
   "outputs": [
    {
     "name": "stdout",
     "output_type": "stream",
     "text": [
      "Speech recognition done\n"
     ]
    },
    {
     "data": {
      "text/plain": [
       "True"
      ]
     },
     "execution_count": 1,
     "metadata": {},
     "output_type": "execute_result"
    }
   ],
   "source": [
    "import algo.VoiceCheck as vc\n",
    "vc.checkIfVoice(\"../Backend/data/LJ040-0165_gen.wav\")"
   ]
  },
  {
   "cell_type": "code",
   "execution_count": null,
   "metadata": {},
   "outputs": [],
   "source": []
  }
 ],
 "metadata": {
  "kernelspec": {
   "display_name": "Python 3",
   "language": "python",
   "name": "python3"
  },
  "language_info": {
   "codemirror_mode": {
    "name": "ipython",
    "version": 3
   },
   "file_extension": ".py",
   "mimetype": "text/x-python",
   "name": "python",
   "nbconvert_exporter": "python",
   "pygments_lexer": "ipython3",
   "version": "3.10.9 (v3.10.9:1dd9be6584, Dec  6 2022, 14:37:36) [Clang 13.0.0 (clang-1300.0.29.30)]"
  },
  "orig_nbformat": 4,
  "vscode": {
   "interpreter": {
    "hash": "aee8b7b246df8f9039afb4144a1f6fd8d2ca17a180786b69acc140d282b71a49"
   }
  }
 },
 "nbformat": 4,
 "nbformat_minor": 2
}
