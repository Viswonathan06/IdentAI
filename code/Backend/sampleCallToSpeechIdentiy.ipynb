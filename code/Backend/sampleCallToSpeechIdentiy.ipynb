{
 "cells": [
  {
   "cell_type": "code",
   "execution_count": 1,
   "metadata": {},
   "outputs": [
    {
     "name": "stderr",
     "output_type": "stream",
     "text": [
      "/Library/Frameworks/Python.framework/Versions/3.10/lib/python3.10/site-packages/tensorflow_addons/utils/ensure_tf_install.py:53: UserWarning: Tensorflow Addons supports using Python ops for all Tensorflow versions above or equal to 2.7.0 and strictly below 2.10.0 (nightly versions are not supported). \n",
      " The versions of TensorFlow you are currently using is 2.15.0 and is not supported. \n",
      "Some things might work, some things might not.\n",
      "If you were to encounter a bug, do not file an issue.\n",
      "If you want to make sure you're using a tested and supported configuration, either change the TensorFlow version or the TensorFlow Addons's version. \n",
      "You can find the compatibility matrix in TensorFlow Addon's readme:\n",
      "https://github.com/tensorflow/addons\n",
      "  warnings.warn(\n"
     ]
    },
    {
     "name": "stdout",
     "output_type": "stream",
     "text": [
      "Comparing current file with saved files: ['sample_1a.wav', 'sample_2.wav']\n",
      "WARNING:tensorflow:No training configuration found in save file, so the model was *not* compiled. Compile it manually.\n",
      "Processing /Users/viswonathanmanoranjan/Documents/GitHub/Hackathon/SpeechIdentity/savedAudioRecordings/sample_1a.wav with sample rate of 48000\n",
      "1/1 [==============================] - 1s 1s/step\n",
      "Processing /Users/viswonathanmanoranjan/Documents/GitHub/Hackathon/SpeechIdentity/savedAudioRecordings/sample_2.wav with sample rate of 48000\n",
      "1/1 [==============================] - 1s 825ms/step\n",
      "Processing ./SpeechIdentity/sample_1b.wav with sample rate of 48000\n",
      "1/1 [==============================] - 0s 194ms/step\n",
      "sample_1a.wav and ./SpeechIdentity/sample_1b.wav: Same 0.7631304860115051\n",
      "sample_2.wav and ./SpeechIdentity/sample_1b.wav: Different 1.3037692308425903\n"
     ]
    }
   ],
   "source": [
    "sys.path.append(os.getcwd()+\"/SpeechIdentity\")\n",
    "import checkIfPersonExistsOrNot as ck\n",
    "\n",
    "currentFile = \"./SpeechIdentity/sample_1b.wav\"\n",
    "results = ck.checkHistoricalData(currentFile)"
   ]
  },
  {
   "cell_type": "code",
   "execution_count": 2,
   "metadata": {},
   "outputs": [
    {
     "data": {
      "text/plain": [
       "[{'audio_file': 'sample_1a.wav',\n",
       "  'comparison_file': './SpeechIdentity/sample_1b.wav',\n",
       "  'conclusion': 'Same',\n",
       "  'distance': 0.7631305},\n",
       " {'audio_file': 'sample_2.wav',\n",
       "  'comparison_file': './SpeechIdentity/sample_1b.wav',\n",
       "  'conclusion': 'Different',\n",
       "  'distance': 1.3037692}]"
      ]
     },
     "execution_count": 2,
     "metadata": {},
     "output_type": "execute_result"
    }
   ],
   "source": [
    "results"
   ]
  },
  {
   "cell_type": "code",
   "execution_count": null,
   "metadata": {},
   "outputs": [],
   "source": []
  },
  {
   "cell_type": "code",
   "execution_count": null,
   "metadata": {},
   "outputs": [],
   "source": []
  }
 ],
 "metadata": {
  "kernelspec": {
   "display_name": "Python 3",
   "language": "python",
   "name": "python3"
  },
  "language_info": {
   "codemirror_mode": {
    "name": "ipython",
    "version": 3
   },
   "file_extension": ".py",
   "mimetype": "text/x-python",
   "name": "python",
   "nbconvert_exporter": "python",
   "pygments_lexer": "ipython3",
   "version": "3.10.9 (v3.10.9:1dd9be6584, Dec  6 2022, 14:37:36) [Clang 13.0.0 (clang-1300.0.29.30)]"
  },
  "orig_nbformat": 4,
  "vscode": {
   "interpreter": {
    "hash": "aee8b7b246df8f9039afb4144a1f6fd8d2ca17a180786b69acc140d282b71a49"
   }
  }
 },
 "nbformat": 4,
 "nbformat_minor": 2
}
